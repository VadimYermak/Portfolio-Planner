{
 "cells": [
  {
   "cell_type": "code",
   "execution_count": 33,
   "id": "20c40b22-8527-436f-b1df-35bb52a6c737",
   "metadata": {},
   "outputs": [],
   "source": [
    "import os\n",
    "import requests\n",
    "import pandas as pd\n",
    "import numpy as np\n",
    "from dotenv import load_dotenv\n",
    "import  alpaca_trade_api as tradeapi"
   ]
  },
  {
   "cell_type": "code",
   "execution_count": 34,
   "id": "bfffad37-aef4-4f2b-bd6d-d90abb7bc373",
   "metadata": {},
   "outputs": [
    {
     "data": {
      "text/plain": [
       "True"
      ]
     },
     "execution_count": 34,
     "metadata": {},
     "output_type": "execute_result"
    }
   ],
   "source": [
    "load_dotenv('api.env')"
   ]
  },
  {
   "cell_type": "code",
   "execution_count": 35,
   "id": "d558580a-9eea-420c-a332-ced4ba91e8f6",
   "metadata": {},
   "outputs": [],
   "source": [
    "alpaca_api_key = os.getenv(\"key\")\n",
    "alpaca_secret_key = os.getenv(\"secret\")"
   ]
  },
  {
   "cell_type": "code",
   "execution_count": 36,
   "id": "0a89bcee-f6cd-4de8-9db4-5dc402fa03d1",
   "metadata": {},
   "outputs": [
    {
     "data": {
      "text/plain": [
       "'PK4NXRWR5NEZL1HWC8MQ'"
      ]
     },
     "metadata": {},
     "output_type": "display_data"
    },
    {
     "data": {
      "text/plain": [
       "'kkQL3M1FJzL6TxEGQentqHFfJOhe53UVxSv1vcvp'"
      ]
     },
     "metadata": {},
     "output_type": "display_data"
    }
   ],
   "source": [
    "display(alpaca_api_key)\n",
    "display(alpaca_secret_key)"
   ]
  },
  {
   "cell_type": "code",
   "execution_count": 37,
   "id": "6c85b398-acc5-4c60-be66-abad94418c1e",
   "metadata": {},
   "outputs": [],
   "source": [
    "alpaca = tradeapi.REST(\n",
    "    alpaca_api_key,\n",
    "    alpaca_secret_key,\n",
    "    api_version=\"v2\")"
   ]
  },
  {
   "cell_type": "code",
   "execution_count": 38,
   "id": "97eb821a-dff6-466b-84ad-76ac8bcd3e69",
   "metadata": {},
   "outputs": [],
   "source": [
    "ticker = [\"AAPL\"]\n",
    "timeframe = \"1Day\"\n",
    "start_date = pd.Timestamp(\"2010-01-01\", tz=\"America/New_York\").isoformat()\n",
    "end_date = pd.Timestamp(\"2023-05-03\", tz=\"America/New_York\").isoformat()"
   ]
  },
  {
   "cell_type": "code",
   "execution_count": 39,
   "id": "165ddf40-e906-479e-bb5d-8e571399c0ab",
   "metadata": {},
   "outputs": [],
   "source": [
    "aapl = alpaca.get_bars(\n",
    "    ticker,\n",
    "    timeframe,\n",
    "    start=start_date,\n",
    "    end=end_date\n",
    ").df"
   ]
  },
  {
   "cell_type": "code",
   "execution_count": 40,
   "id": "e29d6ee6-7050-4bf1-8e62-3083023617bb",
   "metadata": {},
   "outputs": [
    {
     "data": {
      "text/html": [
       "<div>\n",
       "<style scoped>\n",
       "    .dataframe tbody tr th:only-of-type {\n",
       "        vertical-align: middle;\n",
       "    }\n",
       "\n",
       "    .dataframe tbody tr th {\n",
       "        vertical-align: top;\n",
       "    }\n",
       "\n",
       "    .dataframe thead th {\n",
       "        text-align: right;\n",
       "    }\n",
       "</style>\n",
       "<table border=\"1\" class=\"dataframe\">\n",
       "  <thead>\n",
       "    <tr style=\"text-align: right;\">\n",
       "      <th></th>\n",
       "      <th>open</th>\n",
       "      <th>high</th>\n",
       "      <th>low</th>\n",
       "      <th>close</th>\n",
       "      <th>volume</th>\n",
       "      <th>trade_count</th>\n",
       "      <th>vwap</th>\n",
       "      <th>symbol</th>\n",
       "    </tr>\n",
       "    <tr>\n",
       "      <th>timestamp</th>\n",
       "      <th></th>\n",
       "      <th></th>\n",
       "      <th></th>\n",
       "      <th></th>\n",
       "      <th></th>\n",
       "      <th></th>\n",
       "      <th></th>\n",
       "      <th></th>\n",
       "    </tr>\n",
       "  </thead>\n",
       "  <tbody>\n",
       "    <tr>\n",
       "      <th>2015-12-01 05:00:00+00:00</th>\n",
       "      <td>118.75</td>\n",
       "      <td>118.81</td>\n",
       "      <td>116.86</td>\n",
       "      <td>117.34</td>\n",
       "      <td>34852374</td>\n",
       "      <td>187129</td>\n",
       "      <td>117.756760</td>\n",
       "      <td>AAPL</td>\n",
       "    </tr>\n",
       "    <tr>\n",
       "      <th>2015-12-02 05:00:00+00:00</th>\n",
       "      <td>117.05</td>\n",
       "      <td>118.11</td>\n",
       "      <td>116.08</td>\n",
       "      <td>116.28</td>\n",
       "      <td>33385643</td>\n",
       "      <td>180616</td>\n",
       "      <td>117.151198</td>\n",
       "      <td>AAPL</td>\n",
       "    </tr>\n",
       "    <tr>\n",
       "      <th>2015-12-03 05:00:00+00:00</th>\n",
       "      <td>116.55</td>\n",
       "      <td>116.79</td>\n",
       "      <td>114.22</td>\n",
       "      <td>115.20</td>\n",
       "      <td>41560785</td>\n",
       "      <td>245330</td>\n",
       "      <td>115.434888</td>\n",
       "      <td>AAPL</td>\n",
       "    </tr>\n",
       "    <tr>\n",
       "      <th>2015-12-04 05:00:00+00:00</th>\n",
       "      <td>115.29</td>\n",
       "      <td>119.25</td>\n",
       "      <td>115.11</td>\n",
       "      <td>119.03</td>\n",
       "      <td>57776977</td>\n",
       "      <td>307788</td>\n",
       "      <td>118.187290</td>\n",
       "      <td>AAPL</td>\n",
       "    </tr>\n",
       "    <tr>\n",
       "      <th>2015-12-07 05:00:00+00:00</th>\n",
       "      <td>118.98</td>\n",
       "      <td>119.86</td>\n",
       "      <td>117.81</td>\n",
       "      <td>118.28</td>\n",
       "      <td>32080754</td>\n",
       "      <td>190809</td>\n",
       "      <td>118.509111</td>\n",
       "      <td>AAPL</td>\n",
       "    </tr>\n",
       "  </tbody>\n",
       "</table>\n",
       "</div>"
      ],
      "text/plain": [
       "                             open    high     low   close    volume  \\\n",
       "timestamp                                                             \n",
       "2015-12-01 05:00:00+00:00  118.75  118.81  116.86  117.34  34852374   \n",
       "2015-12-02 05:00:00+00:00  117.05  118.11  116.08  116.28  33385643   \n",
       "2015-12-03 05:00:00+00:00  116.55  116.79  114.22  115.20  41560785   \n",
       "2015-12-04 05:00:00+00:00  115.29  119.25  115.11  119.03  57776977   \n",
       "2015-12-07 05:00:00+00:00  118.98  119.86  117.81  118.28  32080754   \n",
       "\n",
       "                           trade_count        vwap symbol  \n",
       "timestamp                                                  \n",
       "2015-12-01 05:00:00+00:00       187129  117.756760   AAPL  \n",
       "2015-12-02 05:00:00+00:00       180616  117.151198   AAPL  \n",
       "2015-12-03 05:00:00+00:00       245330  115.434888   AAPL  \n",
       "2015-12-04 05:00:00+00:00       307788  118.187290   AAPL  \n",
       "2015-12-07 05:00:00+00:00       190809  118.509111   AAPL  "
      ]
     },
     "execution_count": 40,
     "metadata": {},
     "output_type": "execute_result"
    }
   ],
   "source": [
    "aapl.head()"
   ]
  },
  {
   "cell_type": "code",
   "execution_count": 41,
   "id": "b8c7ad1f-54aa-4235-9506-f7af45d37a7d",
   "metadata": {},
   "outputs": [
    {
     "data": {
      "text/html": [
       "<div>\n",
       "<style scoped>\n",
       "    .dataframe tbody tr th:only-of-type {\n",
       "        vertical-align: middle;\n",
       "    }\n",
       "\n",
       "    .dataframe tbody tr th {\n",
       "        vertical-align: top;\n",
       "    }\n",
       "\n",
       "    .dataframe thead th {\n",
       "        text-align: right;\n",
       "    }\n",
       "</style>\n",
       "<table border=\"1\" class=\"dataframe\">\n",
       "  <thead>\n",
       "    <tr style=\"text-align: right;\">\n",
       "      <th></th>\n",
       "      <th>open</th>\n",
       "      <th>high</th>\n",
       "      <th>low</th>\n",
       "      <th>close</th>\n",
       "      <th>volume</th>\n",
       "      <th>trade_count</th>\n",
       "      <th>vwap</th>\n",
       "      <th>symbol</th>\n",
       "    </tr>\n",
       "    <tr>\n",
       "      <th>timestamp</th>\n",
       "      <th></th>\n",
       "      <th></th>\n",
       "      <th></th>\n",
       "      <th></th>\n",
       "      <th></th>\n",
       "      <th></th>\n",
       "      <th></th>\n",
       "      <th></th>\n",
       "    </tr>\n",
       "  </thead>\n",
       "  <tbody>\n",
       "    <tr>\n",
       "      <th>2023-04-27 04:00:00+00:00</th>\n",
       "      <td>165.19</td>\n",
       "      <td>168.56</td>\n",
       "      <td>165.1900</td>\n",
       "      <td>168.41</td>\n",
       "      <td>64891617</td>\n",
       "      <td>575890</td>\n",
       "      <td>167.319460</td>\n",
       "      <td>AAPL</td>\n",
       "    </tr>\n",
       "    <tr>\n",
       "      <th>2023-04-28 04:00:00+00:00</th>\n",
       "      <td>168.49</td>\n",
       "      <td>169.85</td>\n",
       "      <td>167.8801</td>\n",
       "      <td>169.68</td>\n",
       "      <td>53888026</td>\n",
       "      <td>513328</td>\n",
       "      <td>168.948227</td>\n",
       "      <td>AAPL</td>\n",
       "    </tr>\n",
       "    <tr>\n",
       "      <th>2023-05-01 04:00:00+00:00</th>\n",
       "      <td>169.28</td>\n",
       "      <td>170.45</td>\n",
       "      <td>168.6400</td>\n",
       "      <td>169.59</td>\n",
       "      <td>52520935</td>\n",
       "      <td>540746</td>\n",
       "      <td>169.657850</td>\n",
       "      <td>AAPL</td>\n",
       "    </tr>\n",
       "    <tr>\n",
       "      <th>2023-05-02 04:00:00+00:00</th>\n",
       "      <td>170.09</td>\n",
       "      <td>170.35</td>\n",
       "      <td>167.5400</td>\n",
       "      <td>168.54</td>\n",
       "      <td>41042937</td>\n",
       "      <td>495679</td>\n",
       "      <td>168.730618</td>\n",
       "      <td>AAPL</td>\n",
       "    </tr>\n",
       "    <tr>\n",
       "      <th>2023-05-03 04:00:00+00:00</th>\n",
       "      <td>169.50</td>\n",
       "      <td>170.92</td>\n",
       "      <td>167.1600</td>\n",
       "      <td>167.45</td>\n",
       "      <td>60338108</td>\n",
       "      <td>573207</td>\n",
       "      <td>169.181932</td>\n",
       "      <td>AAPL</td>\n",
       "    </tr>\n",
       "  </tbody>\n",
       "</table>\n",
       "</div>"
      ],
      "text/plain": [
       "                             open    high       low   close    volume  \\\n",
       "timestamp                                                               \n",
       "2023-04-27 04:00:00+00:00  165.19  168.56  165.1900  168.41  64891617   \n",
       "2023-04-28 04:00:00+00:00  168.49  169.85  167.8801  169.68  53888026   \n",
       "2023-05-01 04:00:00+00:00  169.28  170.45  168.6400  169.59  52520935   \n",
       "2023-05-02 04:00:00+00:00  170.09  170.35  167.5400  168.54  41042937   \n",
       "2023-05-03 04:00:00+00:00  169.50  170.92  167.1600  167.45  60338108   \n",
       "\n",
       "                           trade_count        vwap symbol  \n",
       "timestamp                                                  \n",
       "2023-04-27 04:00:00+00:00       575890  167.319460   AAPL  \n",
       "2023-04-28 04:00:00+00:00       513328  168.948227   AAPL  \n",
       "2023-05-01 04:00:00+00:00       540746  169.657850   AAPL  \n",
       "2023-05-02 04:00:00+00:00       495679  168.730618   AAPL  \n",
       "2023-05-03 04:00:00+00:00       573207  169.181932   AAPL  "
      ]
     },
     "execution_count": 41,
     "metadata": {},
     "output_type": "execute_result"
    }
   ],
   "source": [
    "aapl.tail()"
   ]
  },
  {
   "cell_type": "code",
   "execution_count": 42,
   "id": "94d6787d-b2a2-4d59-a3e5-730b251e91f3",
   "metadata": {},
   "outputs": [
    {
     "data": {
      "text/plain": [
       "timestamp\n",
       "2015-12-02 05:00:00+00:00   -0.009034\n",
       "2015-12-03 05:00:00+00:00   -0.009288\n",
       "2015-12-04 05:00:00+00:00    0.033247\n",
       "2015-12-07 05:00:00+00:00   -0.006301\n",
       "2015-12-08 05:00:00+00:00   -0.000423\n",
       "Name: close, dtype: float64"
      ]
     },
     "execution_count": 42,
     "metadata": {},
     "output_type": "execute_result"
    }
   ],
   "source": [
    "daily_returns_aapl = aapl['close'].pct_change().dropna()\n",
    "daily_returns_aapl.head()"
   ]
  },
  {
   "cell_type": "code",
   "execution_count": 46,
   "id": "58c96019-71fa-4334-9d63-fc9ed6b3aae2",
   "metadata": {},
   "outputs": [],
   "source": [
    "#annualized average return = aar, 1260 days = 5 years\n",
    "aar_aapl = daily_returns_aapl.mean() * 1260"
   ]
  },
  {
   "cell_type": "code",
   "execution_count": 47,
   "id": "e6ef65ee-321b-460a-863e-0c19860a2ca7",
   "metadata": {},
   "outputs": [],
   "source": [
    "#annualized standart deviation = asd\n",
    "asd_aapl = daily_returns_aapl.std() * np.sqrt(1260)"
   ]
  },
  {
   "cell_type": "code",
   "execution_count": 48,
   "id": "ac8aaf6f-e8e8-4fca-a055-671bdc0cc0bb",
   "metadata": {},
   "outputs": [
    {
     "data": {
      "text/plain": [
       "0.8973856960560522"
      ]
     },
     "metadata": {},
     "output_type": "display_data"
    },
    {
     "data": {
      "text/plain": [
       "0.9278521244591379"
      ]
     },
     "metadata": {},
     "output_type": "display_data"
    }
   ],
   "source": [
    "display(aar_aapl)\n",
    "display(asd_aapl)"
   ]
  },
  {
   "cell_type": "code",
   "execution_count": 50,
   "id": "ece96500-77bd-44c0-8924-c9ff2445b90f",
   "metadata": {},
   "outputs": [],
   "source": [
    "#sharpe ratio = sr. I am not sure how to count correct RISK-FREE-RATE\n",
    "sr_aapl = aar_aapl / asd_aapl"
   ]
  },
  {
   "cell_type": "code",
   "execution_count": 51,
   "id": "2535baa1-f38c-4cbc-9084-3a5e83d10871",
   "metadata": {},
   "outputs": [
    {
     "data": {
      "text/plain": [
       "0.9671645646973702"
      ]
     },
     "metadata": {},
     "output_type": "display_data"
    }
   ],
   "source": [
    "display(sr_aapl)"
   ]
  },
  {
   "cell_type": "code",
   "execution_count": null,
   "id": "2d576375-0293-4d2d-9ae1-1425d1734cbd",
   "metadata": {},
   "outputs": [],
   "source": []
  }
 ],
 "metadata": {
  "kernelspec": {
   "display_name": "python(dev)",
   "language": "python",
   "name": "dev"
  },
  "language_info": {
   "codemirror_mode": {
    "name": "ipython",
    "version": 3
   },
   "file_extension": ".py",
   "mimetype": "text/x-python",
   "name": "python",
   "nbconvert_exporter": "python",
   "pygments_lexer": "ipython3",
   "version": "3.7.13"
  }
 },
 "nbformat": 4,
 "nbformat_minor": 5
}
